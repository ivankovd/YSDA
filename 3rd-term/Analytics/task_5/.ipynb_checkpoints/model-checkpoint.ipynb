{
 "cells": [
  {
   "cell_type": "code",
   "execution_count": 207,
   "metadata": {},
   "outputs": [],
   "source": [
    "import pandas as pd\n",
    "import numpy as np\n",
    "\n",
    "import seaborn as sns\n",
    "import warnings\n",
    "warnings.simplefilter(\"ignore\")\n",
    "\n",
    "import nltk\n",
    "import pymorphy2\n",
    "from sklearn.naive_bayes import GaussianNB\n",
    "from sklearn.linear_model import LogisticRegression\n",
    "from sklearn.ensemble import RandomForestClassifier\n",
    "from sklearn.cross_validation import StratifiedKFold\n",
    "from sklearn.feature_extraction.text import TfidfVectorizer\n",
    "from sklearn.metrics import accuracy_score, f1_score, mean_absolute_error, mean_squared_error\n",
    "from sklearn.svm import SVC\n",
    "\n",
    "import pickle\n",
    "\n",
    "%matplotlib inline"
   ]
  },
  {
   "cell_type": "code",
   "execution_count": 208,
   "metadata": {},
   "outputs": [],
   "source": [
    "# uncomment if nltk not run\n",
    "# nltk.download('punkt')\n",
    "# nltk.download('stopwords')"
   ]
  },
  {
   "cell_type": "code",
   "execution_count": 209,
   "metadata": {},
   "outputs": [
    {
     "data": {
      "text/html": [
       "<div>\n",
       "<style scoped>\n",
       "    .dataframe tbody tr th:only-of-type {\n",
       "        vertical-align: middle;\n",
       "    }\n",
       "\n",
       "    .dataframe tbody tr th {\n",
       "        vertical-align: top;\n",
       "    }\n",
       "\n",
       "    .dataframe thead th {\n",
       "        text-align: right;\n",
       "    }\n",
       "</style>\n",
       "<table border=\"1\" class=\"dataframe\">\n",
       "  <thead>\n",
       "    <tr style=\"text-align: right;\">\n",
       "      <th></th>\n",
       "      <th>text</th>\n",
       "      <th>score</th>\n",
       "    </tr>\n",
       "  </thead>\n",
       "  <tbody>\n",
       "    <tr>\n",
       "      <th>0</th>\n",
       "      <td>Кредит оформлял в офисе банка: «Дополнительный...</td>\n",
       "      <td>3</td>\n",
       "    </tr>\n",
       "    <tr>\n",
       "      <th>1</th>\n",
       "      <td>По своему бизнесу общаюсь с большим количество...</td>\n",
       "      <td>5</td>\n",
       "    </tr>\n",
       "    <tr>\n",
       "      <th>2</th>\n",
       "      <td>Уважаемый банк! Объясните мне, как давнему ваш...</td>\n",
       "      <td>2</td>\n",
       "    </tr>\n",
       "  </tbody>\n",
       "</table>\n",
       "</div>"
      ],
      "text/plain": [
       "                                                text  score\n",
       "0  Кредит оформлял в офисе банка: «Дополнительный...      3\n",
       "1  По своему бизнесу общаюсь с большим количество...      5\n",
       "2  Уважаемый банк! Объясните мне, как давнему ваш...      2"
      ]
     },
     "execution_count": 209,
     "metadata": {},
     "output_type": "execute_result"
    }
   ],
   "source": [
    "data = pd.read_csv(\"./data/df.csv\", index_col=0)\n",
    "data[:3]"
   ]
  },
  {
   "cell_type": "code",
   "execution_count": 210,
   "metadata": {},
   "outputs": [
    {
     "data": {
      "image/png": "[encoded data removed]",
      "text/plain": [
       "<Figure size 432x288 with 1 Axes>"
      ]
     },
     "metadata": {
      "needs_background": "light"
     },
     "output_type": "display_data"
    }
   ],
   "source": [
    "sns.distplot(data.score);"
   ]
  },
  {
   "cell_type": "code",
   "execution_count": 211,
   "metadata": {},
   "outputs": [],
   "source": [
    "X = data.text\n",
    "y = data.score"
   ]
  },
  {
   "cell_type": "code",
   "execution_count": 212,
   "metadata": {},
   "outputs": [],
   "source": [
    "y = np.array(y)"
   ]
  },
  {
   "cell_type": "code",
   "execution_count": 213,
   "metadata": {},
   "outputs": [
    {
     "data": {
      "text/plain": [
       "(array([1, 2, 3, 4, 5]), array([1899, 1365,  635,  441, 1296]))"
      ]
     },
     "execution_count": 213,
     "metadata": {},
     "output_type": "execute_result"
    }
   ],
   "source": [
    "np.unique(y, return_counts=True)"
   ]
  },
  {
   "cell_type": "markdown",
   "metadata": {},
   "source": [
    "Видим, что классы немного не сбалансирвоанные, поэтому для нормального обучения будем использовать stratified - методы кросс-валидации. Это будет хорошо по точности и достаточно просто в реализации"
   ]
  },
  {
   "cell_type": "markdown",
   "metadata": {},
   "source": [
    "## 1. Подготовка текстовых данных"
   ]
  },
  {
   "cell_type": "code",
   "execution_count": 214,
   "metadata": {},
   "outputs": [],
   "source": [
    "class Vectorizer:\n",
    "    def __init__(self, lang=\"russian\"):\n",
    "        self.stemmer = pymorphy2.MorphAnalyzer()\n",
    "        self.tokenizer = nltk.tokenize.word_tokenize\n",
    "        self.stopwords = nltk.corpus.stopwords.words(lang)\n",
    "        \n",
    "    def is_word(self, string):\n",
    "        return string.isalpha()\n",
    "\n",
    "    def text_preprocessing(self, text):\n",
    "        tokenized_text = self.tokenizer(text.lower())\n",
    "        filtered_text = list(\n",
    "            filter(lambda word: self.is_word(word) and word not in self.stopwords, tokenized_text)\n",
    "        )\n",
    "        return \" \".join(list(map(lambda word: self.stemmer.parse(word)[0].normal_form, filtered_text)))\n",
    "    \n",
    "    def set_tf_idf_vectorizer(self, tf_idf_vectorizer):\n",
    "        self.tf_idf_vectorizer = tf_idf_vectorizer\n",
    "    \n",
    "    def vectorize(self, text):\n",
    "        text_for_vectorize = self.text_preprocessing(text)\n",
    "        return self.tf_idf_vectorizer.transform([text_for_vectorize])"
   ]
  },
  {
   "cell_type": "code",
   "execution_count": 215,
   "metadata": {},
   "outputs": [],
   "source": [
    "vectorizer = Vectorizer()"
   ]
  },
  {
   "cell_type": "code",
   "execution_count": 216,
   "metadata": {},
   "outputs": [],
   "source": [
    "X = X.apply(lambda x: vectorizer.text_preprocessing(x))"
   ]
  },
  {
   "cell_type": "code",
   "execution_count": 221,
   "metadata": {},
   "outputs": [
    {
     "name": "stdout",
     "output_type": "stream",
     "text": [
      "0.4402125775022144\n",
      "1.0611160318866253\n",
      "==================================================\n",
      "0.42857142857142855\n",
      "1.087843833185448\n",
      "==================================================\n",
      "0.44631765749778174\n",
      "1.0390417036379769\n",
      "==================================================\n",
      "0.4259094942324756\n",
      "1.1348713398402839\n",
      "==================================================\n",
      "0.458259325044405\n",
      "1.0550621669626998\n",
      "==================================================\n"
     ]
    }
   ],
   "source": [
    "for tr, te in StratifiedKFold(y=y, n_folds=5, shuffle=True, random_state=42):\n",
    "    tfidf = TfidfVectorizer(ngram_range=(1, 2))\n",
    "    X_train_tf_idf = tfidf.fit_transform(X[tr])\n",
    "    X_test_tf_idf = tfidf.transform(X[te])\n",
    "    rf = RandomForestClassifier()\n",
    "    rf.fit(X_train_tf_idf, y[tr])\n",
    "    print(np.sum(rf.predict(X_test_tf_idf) == y[te]) / len(y[te]))\n",
    "    print(mean_absolute_error(y[te], rf.predict(X_test_tf_idf)))\n",
    "    print(\"=\" * 50)"
   ]
  },
  {
   "cell_type": "code",
   "execution_count": 222,
   "metadata": {},
   "outputs": [],
   "source": [
    "tfidf = TfidfVectorizer(ngram_range=(1, 2))\n",
    "X_all_tfidf = tfidf.fit_transform(X)"
   ]
  },
  {
   "cell_type": "code",
   "execution_count": 223,
   "metadata": {},
   "outputs": [
    {
     "data": {
      "text/plain": [
       "RandomForestClassifier(bootstrap=True, class_weight=None, criterion='gini',\n",
       "            max_depth=None, max_features='auto', max_leaf_nodes=None,\n",
       "            min_impurity_decrease=0.0, min_impurity_split=None,\n",
       "            min_samples_leaf=1, min_samples_split=2,\n",
       "            min_weight_fraction_leaf=0.0, n_estimators=10, n_jobs=1,\n",
       "            oob_score=False, random_state=None, verbose=0,\n",
       "            warm_start=False)"
      ]
     },
     "execution_count": 223,
     "metadata": {},
     "output_type": "execute_result"
    }
   ],
   "source": [
    "rf = RandomForestClassifier()\n",
    "rf.fit(X_all_tfidf, y)"
   ]
  },
  {
   "cell_type": "code",
   "execution_count": 225,
   "metadata": {},
   "outputs": [
    {
     "name": "stdout",
     "output_type": "stream",
     "text": [
      "[5]\n"
     ]
    }
   ],
   "source": [
    "vectorizer.set_tf_idf_vectorizer(tfidf)\n",
    "print(rf.predict(vectorizer.vectorize(\"Благодарность сотруднику банка: Хочу сказать спасибо! Вы мне сильно помогли\")))"
   ]
  },
  {
   "cell_type": "code",
   "execution_count": 226,
   "metadata": {},
   "outputs": [],
   "source": [
    "with open(\"./deploy_server/models/vectorizer.pkl\", \"wb\") as f:\n",
    "    pickle.dump(tfidf, f)"
   ]
  },
  {
   "cell_type": "code",
   "execution_count": 227,
   "metadata": {},
   "outputs": [],
   "source": [
    "with open(\"./deploy_server/models/classifier.pkl\", \"wb\") as f:\n",
    "    pickle.dump(rf, f)"
   ]
  },
  {
   "cell_type": "code",
   "execution_count": null,
   "metadata": {},
   "outputs": [],
   "source": []
  }
 ],
 "metadata": {
  "kernelspec": {
   "display_name": "Python 3",
   "language": "python",
   "name": "python3"
  },
  "language_info": {
   "codemirror_mode": {
    "name": "ipython",
    "version": 3
   },
   "file_extension": ".py",
   "mimetype": "text/x-python",
   "name": "python",
   "nbconvert_exporter": "python",
   "pygments_lexer": "ipython3",
   "version": "3.7.0"
  }
 },
 "nbformat": 4,
 "nbformat_minor": 2
}
