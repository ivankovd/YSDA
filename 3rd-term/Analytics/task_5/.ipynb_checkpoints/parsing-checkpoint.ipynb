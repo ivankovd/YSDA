{
 "cells": [
  {
   "cell_type": "markdown",
   "metadata": {},
   "source": [
    "## Парсинг сайта Banki.ru"
   ]
  },
  {
   "cell_type": "markdown",
   "metadata": {},
   "source": [
    "Использую selenium webdriver, т.к. на первый взгляд bank.ru используют AJAX, и просто так scrapy завести не удалось. Selenium для меня достаточно знакомый инструмент, поэтому времени он занял немного"
   ]
  },
  {
   "cell_type": "code",
   "execution_count": 15,
   "metadata": {},
   "outputs": [],
   "source": [
    "from selenium import webdriver\n",
    "from bs4 import BeautifulSoup\n",
    "import numpy as np\n",
    "from tqdm import tqdm, tqdm_notebook\n",
    "import time\n",
    "import requests\n",
    "import pandas as pd\n",
    "\n",
    "from multiprocessing.dummy import Pool as ThreadPool"
   ]
  },
  {
   "cell_type": "code",
   "execution_count": 16,
   "metadata": {},
   "outputs": [],
   "source": [
    "class BankParser():\n",
    "    def __init__(self, raw_page=\"https://www.banki.ru/services/responses/list/?is_countable=on&page={}\"):\n",
    "        self.browser = webdriver.Chrome(\"./chromedriver\")\n",
    "        self.raw_page = raw_page\n",
    "        self.feedback_urls = []\n",
    "    \n",
    "    def parse_one_page(self, url):\n",
    "        self.browser.get(url)\n",
    "        soup = BeautifulSoup(self.browser.page_source)\n",
    "        hrefs = soup.find_all(text=\"Весь отзыв\", href=True)\n",
    "        hrefs_pretty = list(map(lambda href: \"https://www.banki.ru\" + href.attrs[\"href\"], hrefs))\n",
    "        time.sleep(np.random.uniform(low=4, high=8))\n",
    "        return hrefs_pretty\n",
    "    \n",
    "    def parse(self, pages_id):\n",
    "        pages_id = list(pages_id)\n",
    "        for page_id in tqdm(pages_id):\n",
    "            self.feedback_urls.extend(self.parse_one_page(self.raw_page.format(page_id)))\n",
    "        \n",
    "    def dump_feedback_urls(self, name):\n",
    "        self.feedback_urls = np.array(self.feedback_urls)\n",
    "        np.save(name, self.feedback_urls)"
   ]
  },
  {
   "cell_type": "code",
   "execution_count": 17,
   "metadata": {},
   "outputs": [],
   "source": [
    "bank_parser = BankParser()"
   ]
  },
  {
   "cell_type": "code",
   "execution_count": null,
   "metadata": {
    "scrolled": true
   },
   "outputs": [],
   "source": [
    "bank_parser.parse(range(351, 450))"
   ]
  },
  {
   "cell_type": "code",
   "execution_count": 19,
   "metadata": {},
   "outputs": [],
   "source": [
    "bank_parser.dump_feedback_urls(\"./data/url_feedbacks_351_450.npy\")"
   ]
  },
  {
   "cell_type": "code",
   "execution_count": 22,
   "metadata": {},
   "outputs": [],
   "source": [
    "class FeedbackParser():\n",
    "    def __init__(self, path_to_feedback_urls):\n",
    "        self.path_to_feedback_urls = path_to_feedback_urls\n",
    "        self.feedbacks = []\n",
    "    \n",
    "    def load_feedback_urls(self):\n",
    "        self.feedback_urls = []\n",
    "        for path_to_feedback in self.path_to_feedback_urls:\n",
    "            self.feedback_urls.extend(list(np.load(path_to_feedback)))\n",
    "        \n",
    "        print(\"cnt feedbacks = {}\".format(len(self.feedback_urls)))\n",
    "        \n",
    "    def parse_one(self, url):\n",
    "        request = requests.get(url)\n",
    "        soup = BeautifulSoup(request.text)\n",
    "        score = soup.find(itemprop=\"rating\")\n",
    "        text = soup.find(itemprop=\"description\").text.strip()\n",
    "        return text, int(score.text.strip())\n",
    "        \n",
    "    def parse(self):\n",
    "        for feedback_url in tqdm(self.feedback_urls):\n",
    "            text, score = self.parse_one(feedback_url)\n",
    "            self.feedbacks.append([text, score])\n",
    "            \n",
    "    def dump_feedback(self, name):\n",
    "        data = pd.DataFrame(data=self.feedbacks, columns=[\"text\", \"score\"])\n",
    "        data.to_csv(name)"
   ]
  },
  {
   "cell_type": "code",
   "execution_count": null,
   "metadata": {
    "scrolled": true
   },
   "outputs": [],
   "source": [
    "feedback_parser = FeedbackParser([\"./data/url_feedbacks_351_450.npy\"])\n",
    "feedback_parser.load_feedback_urls()\n",
    "feedback_parser.parse()"
   ]
  },
  {
   "cell_type": "code",
   "execution_count": 24,
   "metadata": {},
   "outputs": [],
   "source": [
    "feedback_parser.dump_feedback(\"./data/feedbacks_351_450.csv\")"
   ]
  },
  {
   "cell_type": "code",
   "execution_count": 25,
   "metadata": {},
   "outputs": [
    {
     "data": {
      "text/plain": [
       "2465"
      ]
     },
     "execution_count": 25,
     "metadata": {},
     "output_type": "execute_result"
    }
   ],
   "source": [
    "len(feedback_parser.feedbacks)"
   ]
  },
  {
   "cell_type": "code",
   "execution_count": null,
   "metadata": {},
   "outputs": [],
   "source": []
  }
 ],
 "metadata": {
  "kernelspec": {
   "display_name": "Python 3",
   "language": "python",
   "name": "python3"
  },
  "language_info": {
   "codemirror_mode": {
    "name": "ipython",
    "version": 3
   },
   "file_extension": ".py",
   "mimetype": "text/x-python",
   "name": "python",
   "nbconvert_exporter": "python",
   "pygments_lexer": "ipython3",
   "version": "3.7.0"
  }
 },
 "nbformat": 4,
 "nbformat_minor": 2
}
